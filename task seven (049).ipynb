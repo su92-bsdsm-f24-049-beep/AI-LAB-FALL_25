{
 "cells": [
  {
   "cell_type": "code",
   "execution_count": 3,
   "id": "b89e5a58",
   "metadata": {},
   "outputs": [
    {
     "name": "stdout",
     "output_type": "stream",
     "text": [
      "✅ Path found: ['A', 'B', 'D']\n"
     ]
    }
   ],
   "source": [
    "class Graph:\n",
    "    def __init__(self, graph):\n",
    "        self.graph = graph\n",
    "\n",
    "    def heuristic(self, node):\n",
    "        return 1   \n",
    "\n",
    "    def a_star(self, start, goal):\n",
    "        open_set = {start}\n",
    "        closed_set = set()\n",
    "        g = {start: 0}\n",
    "        parent = {start: None}\n",
    "\n",
    "        while open_set:\n",
    "            current = min(open_set, key=lambda x: g[x] + self.heuristic(x))\n",
    "            if current == goal:\n",
    "                path = []\n",
    "                while current:\n",
    "                    path.append(current)\n",
    "                    current = parent[current]\n",
    "                path.reverse()\n",
    "                print(\"✅ Path found:\", path)\n",
    "                return\n",
    "\n",
    "            open_set.remove(current)\n",
    "            closed_set.add(current)\n",
    "\n",
    "            for neighbor, cost in self.graph.get(current, []):\n",
    "                if neighbor in closed_set:\n",
    "                    continue\n",
    "                new_cost = g[current] + cost\n",
    "                if neighbor not in open_set or new_cost < g.get(neighbor, float('inf')):\n",
    "                    g[neighbor] = new_cost\n",
    "                    parent[neighbor] = current\n",
    "                    open_set.add(neighbor)\n",
    "\n",
    "        print(\" Path does not exist!\")\n",
    "\n",
    "graph_data = {\n",
    "    'A': [('B', 1), ('C', 3), ('D', 7)],\n",
    "    'B': [('D', 5)],\n",
    "    'C': [('D', 12)]\n",
    "}\n",
    "\n",
    "g = Graph(graph_data)\n",
    "g.a_star('A', 'D')\n"
   ]
  }
 ],
 "metadata": {
  "kernelspec": {
   "display_name": "base",
   "language": "python",
   "name": "python3"
  },
  "language_info": {
   "codemirror_mode": {
    "name": "ipython",
    "version": 3
   },
   "file_extension": ".py",
   "mimetype": "text/x-python",
   "name": "python",
   "nbconvert_exporter": "python",
   "pygments_lexer": "ipython3",
   "version": "3.12.7"
  }
 },
 "nbformat": 4,
 "nbformat_minor": 5
}
