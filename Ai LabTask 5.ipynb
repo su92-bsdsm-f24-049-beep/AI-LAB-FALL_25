{
 "cells": [
  {
   "cell_type": "code",
   "execution_count": 1,
   "id": "4aa71bf2",
   "metadata": {},
   "outputs": [
    {
     "name": "stdout",
     "output_type": "stream",
     "text": [
      "{'A': ['B', 'C'], 'B': ['A', 'D', 'E'], 'C': ['A', 'F'], 'D': ['B'], 'E': ['B', 'F'], 'F': ['C', 'E']}\n",
      "A\n",
      "B\n",
      "C\n",
      "D\n",
      "E\n",
      "F\n",
      "['A', 'B', 'C', 'D', 'E', 'F']\n"
     ]
    }
   ],
   "source": [
    "from collections import deque\n",
    "\n",
    "def bfs_with_queue(graph, start_node):\n",
    "    visited = []\n",
    "    queue = deque([start_node])  # queue start node se\n",
    "    \n",
    "    while queue:\n",
    "        node = queue.popleft()   # FIFO: first in, first out\n",
    "        if node not in visited:\n",
    "            print(node)\n",
    "            visited.append(node)\n",
    "            for neighbour in graph[node]:\n",
    "                if neighbour not in visited:\n",
    "                    queue.append(neighbour)\n",
    "    return visited\n",
    "\n",
    "\n",
    "graph1 = {\n",
    "    'A': ['B', 'C'],\n",
    "    'B': ['A', 'D', 'E'],\n",
    "    'C': ['A', 'F'],\n",
    "    'D': ['B'],\n",
    "    'E': ['B', 'F'],\n",
    "    'F': ['C', 'E']\n",
    "}\n",
    "\n",
    "print(graph1)\n",
    "ans = bfs_with_queue(graph1, 'A')\n",
    "print(ans)\n"
   ]
  },
  {
   "cell_type": "code",
   "execution_count": null,
   "id": "a0a07d7f",
   "metadata": {},
   "outputs": [
    {
     "name": "stdout",
     "output_type": "stream",
     "text": [
      "A\n",
      "B\n",
      "C\n",
      "D\n",
      "E\n",
      "F\n",
      "['A', 'B', 'C', 'D', 'E', 'F']\n"
     ]
    }
   ],
   "source": [
    "from collections import deque\n",
    "\n",
    "def bfs_with_queue(graph, start):\n",
    "    visited_list = []          \n",
    "    q = deque()               \n",
    "    \n",
    "    q.append(start)            \n",
    "    visited_list.append(start)\n",
    "    \n",
    "    while q:\n",
    "        current = q.popleft() \n",
    "        print(current)        \n",
    "        \n",
    "        # Har neighbor check karo\n",
    "        for neighbor in graph[current]:\n",
    "            if neighbor not in visited_list:\n",
    "                visited_list.append(neighbor)\n",
    "                q.append(neighbor)\n",
    "                \n",
    "    return visited_list\n",
    "\n",
    "\n",
    "# Graph\n",
    "graph2 = {\n",
    "    'A': ['B', 'C'],\n",
    "    'B': ['A', 'D', 'E'],\n",
    "    'C': ['A', 'F'],\n",
    "    'D': ['B'],\n",
    "    'E': ['B', 'F'],\n",
    "    'F': ['C', 'E']\n",
    "}\n",
    "\n",
    "# BFS traversal call\n",
    "print(\"Graph:\", graph2)\n",
    "result2 = bfs_with_queue(graph2, 'A')\n",
    "print(\"Visited Order:\", result2)"
   ]
  }
 ],
 "metadata": {
  "kernelspec": {
   "display_name": "Python 3",
   "language": "python",
   "name": "python3"
  },
  "language_info": {
   "codemirror_mode": {
    "name": "ipython",
    "version": 3
   },
   "file_extension": ".py",
   "mimetype": "text/x-python",
   "name": "python",
   "nbconvert_exporter": "python",
   "pygments_lexer": "ipython3",
   "version": "3.13.3"
  }
 },
 "nbformat": 4,
 "nbformat_minor": 5
}
